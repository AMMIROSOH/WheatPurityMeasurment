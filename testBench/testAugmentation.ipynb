{
 "cells": [
  {
   "cell_type": "code",
   "execution_count": 1,
   "metadata": {},
   "outputs": [],
   "source": [
    "import cv2 as cv\n",
    "import numpy as np\n",
    "import matplotlib.pyplot as plt\n",
    "import os\n",
    "import random"
   ]
  },
  {
   "cell_type": "code",
   "execution_count": 4,
   "metadata": {},
   "outputs": [],
   "source": [
    "def readImagesFromDirectories(*directories):\n",
    "    images = []\n",
    "    for directory in directories:\n",
    "        if not os.path.isdir(directory):\n",
    "            print(f\"Error: {directory} is not a valid directory path.\")\n",
    "            continue\n",
    "        for filename in os.listdir(directory):\n",
    "            if filename.endswith(('.jpg', '.jpeg', '.png', '.bmp')):\n",
    "                image_path = os.path.join(directory, filename)\n",
    "                img = cv.imread(image_path, cv.IMREAD_UNCHANGED)\n",
    "                if img is not None:\n",
    "                    images.append(img)\n",
    "                else:\n",
    "                    print(f\"Error: Unable to read image {image_path}.\")\n",
    "    return images\n",
    "\n",
    "def overlap(rect1, rect2):\n",
    "    x1, y1, w1, h1 = rect1\n",
    "    x2, y2, w2, h2 = rect2\n",
    "    return not (x1 + w1 < x2 or x2 + w2 < x1 or y1 + h1 < y2 or y2 + h2 < y1)\n",
    "\n",
    "def placeImage(image, mask, canvas, objects, seed=True):\n",
    "    imgHeight, imgWidth = image.shape[:2]\n",
    "    thresholdSeed = createMaskSeed(image, seed)\n",
    "    maxAttempts = 100\n",
    "    for _ in range(maxAttempts):\n",
    "        x = random.randint(0, canvas.shape[1] - imgWidth)\n",
    "        y = random.randint(0, canvas.shape[0] - imgHeight)\n",
    "        if all(not overlap((x, y, imgWidth, imgHeight), (obj['x'], obj['y'], obj['w'], obj['h'])) for obj in objects):\n",
    "            alpha = image[:, :, 3] / 255.0\n",
    "            for c in range(3):\n",
    "                canvas[y:y+imgHeight, x:x+imgWidth, c] = (1.0 - alpha) * canvas[y:y+imgHeight, x:x+imgWidth, c] + alpha * image[:, :, c]\n",
    "\n",
    "            mask[y:y+imgHeight, x:x+imgWidth] = thresholdSeed\n",
    "            objects.append({'x': x, 'y': y, 'w': imgWidth, 'h': imgHeight})\n",
    "            return True\n",
    "    return False\n",
    "\n",
    "def createMaskSeed(image, seed=True):\n",
    "    hsiImage = cv.cvtColor(image, cv.COLOR_BGR2HSV_FULL)\n",
    "    saturationComponent = hsiImage[:, :, 1]\n",
    "    if seed:\n",
    "        _, thresholdImage = cv.threshold(saturationComponent, 30, 255, cv.THRESH_BINARY)\n",
    "    else: \n",
    "        _, thresholdImage = cv.threshold(saturationComponent, 30, 127, cv.THRESH_BINARY)\n",
    "    return thresholdImage\n",
    "\n",
    "def placeImagesOnBackground(backgroundImg, wheatImages, miscImages, seedChanceRef=0.3):\n",
    "    canvas = backgroundImg.copy()\n",
    "    mask = backgroundImg[:, :, 1].copy()\n",
    "    mask[:, :] = 0\n",
    "    # print(len(wheatImages) + len(miscImages))\n",
    "    objects = []\n",
    "    for i in range(random.randint(300, 800)):  # len(wheatImages) + len(miscImages)\n",
    "        seedChance = random.randint(0, 1)\n",
    "        if seedChance >= seedChanceRef:\n",
    "            placeImage(random.choice(wheatImages), mask, canvas, objects)\n",
    "        else:\n",
    "            placeImage(random.choice(miscImages), mask, canvas, objects, False)\n",
    "\n",
    "    return canvas, mask\n"
   ]
  },
  {
   "cell_type": "code",
   "execution_count": 5,
   "metadata": {},
   "outputs": [
    {
     "name": "stdout",
     "output_type": "stream",
     "text": [
      "1049\n",
      "1049\n",
      "1049\n",
      "1049\n",
      "1049\n"
     ]
    }
   ],
   "source": [
    "background_img = cv.imread(\"../data/blank.jpg\") - 24\n",
    "wheat_images = readImagesFromDirectories(\"../data/objects/wheat/seeds\")\n",
    "misc_images = readImagesFromDirectories(\"../data/objects/wheat/miscs\")\n",
    "for i in range(5):\n",
    "    result_image, mask = placeImagesOnBackground(background_img, wheat_images, misc_images)\n",
    "\n",
    "    # Save or display the final result_image\n",
    "    cv.imshow('Final Result Image', cv.resize(result_image, (745, 1024)))\n",
    "    cv.imshow('mask', cv.resize(mask, (745, 1024)))\n",
    "    cv.waitKey(0)\n",
    "    cv.destroyAllWindows()"
   ]
  },
  {
   "cell_type": "code",
   "execution_count": 29,
   "metadata": {},
   "outputs": [
    {
     "data": {
      "text/plain": [
       "678"
      ]
     },
     "execution_count": 29,
     "metadata": {},
     "output_type": "execute_result"
    }
   ],
   "source": [
    "random.randint(300, 800)"
   ]
  },
  {
   "cell_type": "code",
   "execution_count": null,
   "metadata": {},
   "outputs": [],
   "source": []
  },
  {
   "cell_type": "code",
   "execution_count": null,
   "metadata": {},
   "outputs": [],
   "source": []
  }
 ],
 "metadata": {
  "kernelspec": {
   "display_name": "myenv1",
   "language": "python",
   "name": "python3"
  },
  "language_info": {
   "codemirror_mode": {
    "name": "ipython",
    "version": 3
   },
   "file_extension": ".py",
   "mimetype": "text/x-python",
   "name": "python",
   "nbconvert_exporter": "python",
   "pygments_lexer": "ipython3",
   "version": "3.10.9"
  }
 },
 "nbformat": 4,
 "nbformat_minor": 2
}
